{
 "cells": [
  {
   "cell_type": "markdown",
   "id": "1d96f388",
   "metadata": {},
   "source": [
    "# RULE BASED CUSTOMER SEGMENTATION"
   ]
  },
  {
   "cell_type": "markdown",
   "id": "67ecc704",
   "metadata": {},
   "source": [
    "- **PRICE :**customer paid amount\n",
    "- **SOURCE :** customer device type\n",
    "- **SEX :** customer gender\n",
    "- **COUNTRY :** customer country\n",
    "- **AGE :** customer age"
   ]
  },
  {
   "cell_type": "code",
   "execution_count": 1,
   "id": "b20ae521",
   "metadata": {},
   "outputs": [],
   "source": [
    "import pandas as pd\n",
    "import numpy as np\n",
    "import matplotlib.pyplot as plt"
   ]
  },
  {
   "cell_type": "code",
   "execution_count": 2,
   "id": "d4199ddb",
   "metadata": {},
   "outputs": [
    {
     "data": {
      "text/html": [
       "<div>\n",
       "<style scoped>\n",
       "    .dataframe tbody tr th:only-of-type {\n",
       "        vertical-align: middle;\n",
       "    }\n",
       "\n",
       "    .dataframe tbody tr th {\n",
       "        vertical-align: top;\n",
       "    }\n",
       "\n",
       "    .dataframe thead th {\n",
       "        text-align: right;\n",
       "    }\n",
       "</style>\n",
       "<table border=\"1\" class=\"dataframe\">\n",
       "  <thead>\n",
       "    <tr style=\"text-align: right;\">\n",
       "      <th></th>\n",
       "      <th>PRICE</th>\n",
       "      <th>SOURCE</th>\n",
       "      <th>SEX</th>\n",
       "      <th>COUNTRY</th>\n",
       "      <th>AGE</th>\n",
       "    </tr>\n",
       "  </thead>\n",
       "  <tbody>\n",
       "    <tr>\n",
       "      <th>0</th>\n",
       "      <td>39</td>\n",
       "      <td>android</td>\n",
       "      <td>male</td>\n",
       "      <td>bra</td>\n",
       "      <td>17</td>\n",
       "    </tr>\n",
       "    <tr>\n",
       "      <th>1</th>\n",
       "      <td>39</td>\n",
       "      <td>android</td>\n",
       "      <td>male</td>\n",
       "      <td>bra</td>\n",
       "      <td>17</td>\n",
       "    </tr>\n",
       "    <tr>\n",
       "      <th>2</th>\n",
       "      <td>49</td>\n",
       "      <td>android</td>\n",
       "      <td>male</td>\n",
       "      <td>bra</td>\n",
       "      <td>17</td>\n",
       "    </tr>\n",
       "    <tr>\n",
       "      <th>3</th>\n",
       "      <td>29</td>\n",
       "      <td>android</td>\n",
       "      <td>male</td>\n",
       "      <td>tur</td>\n",
       "      <td>17</td>\n",
       "    </tr>\n",
       "    <tr>\n",
       "      <th>4</th>\n",
       "      <td>49</td>\n",
       "      <td>android</td>\n",
       "      <td>male</td>\n",
       "      <td>tur</td>\n",
       "      <td>17</td>\n",
       "    </tr>\n",
       "  </tbody>\n",
       "</table>\n",
       "</div>"
      ],
      "text/plain": [
       "   PRICE   SOURCE   SEX COUNTRY  AGE\n",
       "0     39  android  male     bra   17\n",
       "1     39  android  male     bra   17\n",
       "2     49  android  male     bra   17\n",
       "3     29  android  male     tur   17\n",
       "4     49  android  male     tur   17"
      ]
     },
     "execution_count": 2,
     "metadata": {},
     "output_type": "execute_result"
    }
   ],
   "source": [
    "df = pd.read_csv('persona.csv')\n",
    "df.head()"
   ]
  },
  {
   "cell_type": "code",
   "execution_count": 3,
   "id": "d2172ed0",
   "metadata": {},
   "outputs": [
    {
     "data": {
      "text/html": [
       "<div>\n",
       "<style scoped>\n",
       "    .dataframe tbody tr th:only-of-type {\n",
       "        vertical-align: middle;\n",
       "    }\n",
       "\n",
       "    .dataframe tbody tr th {\n",
       "        vertical-align: top;\n",
       "    }\n",
       "\n",
       "    .dataframe thead th {\n",
       "        text-align: right;\n",
       "    }\n",
       "</style>\n",
       "<table border=\"1\" class=\"dataframe\">\n",
       "  <thead>\n",
       "    <tr style=\"text-align: right;\">\n",
       "      <th></th>\n",
       "      <th>count</th>\n",
       "      <th>mean</th>\n",
       "      <th>std</th>\n",
       "      <th>min</th>\n",
       "      <th>25%</th>\n",
       "      <th>50%</th>\n",
       "      <th>75%</th>\n",
       "      <th>max</th>\n",
       "    </tr>\n",
       "  </thead>\n",
       "  <tbody>\n",
       "    <tr>\n",
       "      <th>PRICE</th>\n",
       "      <td>5000.0</td>\n",
       "      <td>34.1320</td>\n",
       "      <td>12.464897</td>\n",
       "      <td>9.0</td>\n",
       "      <td>29.0</td>\n",
       "      <td>39.0</td>\n",
       "      <td>39.0</td>\n",
       "      <td>59.0</td>\n",
       "    </tr>\n",
       "    <tr>\n",
       "      <th>AGE</th>\n",
       "      <td>5000.0</td>\n",
       "      <td>23.5814</td>\n",
       "      <td>8.995908</td>\n",
       "      <td>15.0</td>\n",
       "      <td>17.0</td>\n",
       "      <td>21.0</td>\n",
       "      <td>27.0</td>\n",
       "      <td>66.0</td>\n",
       "    </tr>\n",
       "  </tbody>\n",
       "</table>\n",
       "</div>"
      ],
      "text/plain": [
       "        count     mean        std   min   25%   50%   75%   max\n",
       "PRICE  5000.0  34.1320  12.464897   9.0  29.0  39.0  39.0  59.0\n",
       "AGE    5000.0  23.5814   8.995908  15.0  17.0  21.0  27.0  66.0"
      ]
     },
     "execution_count": 3,
     "metadata": {},
     "output_type": "execute_result"
    }
   ],
   "source": [
    "df.describe().T"
   ]
  },
  {
   "cell_type": "code",
   "execution_count": 4,
   "id": "3317c66d",
   "metadata": {},
   "outputs": [
    {
     "data": {
      "text/plain": [
       "array([17, 26, 23, 15, 19, 21, 16, 35, 42, 40, 49, 34, 18, 32, 25, 30, 20,\n",
       "       22, 50, 37, 24, 31, 28, 66, 27, 47, 57, 52, 39, 59, 46, 36, 29, 51,\n",
       "       55, 53, 33, 43, 38, 56, 54, 41, 44, 45, 65, 61], dtype=int64)"
      ]
     },
     "execution_count": 4,
     "metadata": {},
     "output_type": "execute_result"
    }
   ],
   "source": [
    "df.AGE.unique()"
   ]
  },
  {
   "cell_type": "code",
   "execution_count": 5,
   "id": "49acddd1",
   "metadata": {},
   "outputs": [],
   "source": [
    "def check_df(dataframe, head=5):\n",
    "\n",
    "\n",
    "    print(\"##################### Shape #####################\")\n",
    "    print(dataframe.shape)\n",
    "\n",
    "    print(\"##################### Types #####################\")\n",
    "    print(dataframe.dtypes)\n",
    "\n",
    "    print(\"##################### Head #####################\")\n",
    "    print(dataframe.head(head))\n",
    "\n",
    "    print(\"##################### Tail #####################\")\n",
    "    print(dataframe.tail(head))\n",
    "\n",
    "    print(\"##################### NA #####################\")\n",
    "    print(dataframe.isnull().sum())\n",
    "\n",
    "    print(\"##################### Quantiles #####################\")\n",
    "    print(dataframe.quantile([0, 0.05, 0.50, 0.95, 0.99, 1]).T)"
   ]
  },
  {
   "cell_type": "code",
   "execution_count": 6,
   "id": "2d4ea2de",
   "metadata": {},
   "outputs": [
    {
     "name": "stdout",
     "output_type": "stream",
     "text": [
      "##################### Shape #####################\n",
      "(5000, 5)\n",
      "##################### Types #####################\n",
      "PRICE       int64\n",
      "SOURCE     object\n",
      "SEX        object\n",
      "COUNTRY    object\n",
      "AGE         int64\n",
      "dtype: object\n",
      "##################### Head #####################\n",
      "   PRICE   SOURCE   SEX COUNTRY  AGE\n",
      "0     39  android  male     bra   17\n",
      "1     39  android  male     bra   17\n",
      "2     49  android  male     bra   17\n",
      "3     29  android  male     tur   17\n",
      "4     49  android  male     tur   17\n",
      "##################### Tail #####################\n",
      "      PRICE   SOURCE     SEX COUNTRY  AGE\n",
      "4995     29  android  female     bra   31\n",
      "4996     29  android  female     bra   31\n",
      "4997     29  android  female     bra   31\n",
      "4998     39  android  female     bra   31\n",
      "4999     29  android  female     bra   31\n",
      "##################### NA #####################\n",
      "PRICE      0\n",
      "SOURCE     0\n",
      "SEX        0\n",
      "COUNTRY    0\n",
      "AGE        0\n",
      "dtype: int64\n",
      "##################### Quantiles #####################\n",
      "       0.00  0.05  0.50  0.95  0.99  1.00\n",
      "PRICE   9.0  19.0  39.0  49.0  59.0  59.0\n",
      "AGE    15.0  15.0  21.0  43.0  53.0  66.0\n"
     ]
    }
   ],
   "source": [
    "check_df(df)"
   ]
  },
  {
   "cell_type": "code",
   "execution_count": 7,
   "id": "0e373297",
   "metadata": {},
   "outputs": [],
   "source": [
    "cat_cols = [col for col in df.columns if df[col].dtypes == \"O\"]"
   ]
  },
  {
   "cell_type": "code",
   "execution_count": 8,
   "id": "8f81986a",
   "metadata": {},
   "outputs": [
    {
     "data": {
      "text/plain": [
       "SOURCE     2\n",
       "SEX        2\n",
       "COUNTRY    6\n",
       "dtype: int64"
      ]
     },
     "execution_count": 8,
     "metadata": {},
     "output_type": "execute_result"
    }
   ],
   "source": [
    "df[cat_cols].nunique()"
   ]
  },
  {
   "cell_type": "code",
   "execution_count": 9,
   "id": "e078176e",
   "metadata": {},
   "outputs": [
    {
     "data": {
      "text/plain": [
       "array(['android', 'ios'], dtype=object)"
      ]
     },
     "execution_count": 9,
     "metadata": {},
     "output_type": "execute_result"
    }
   ],
   "source": [
    "df['SOURCE'].unique()"
   ]
  },
  {
   "cell_type": "code",
   "execution_count": 10,
   "id": "7b6395f4",
   "metadata": {},
   "outputs": [
    {
     "data": {
      "text/plain": [
       "android    2974\n",
       "ios        2026\n",
       "Name: SOURCE, dtype: int64"
      ]
     },
     "execution_count": 10,
     "metadata": {},
     "output_type": "execute_result"
    }
   ],
   "source": [
    "df['SOURCE'].value_counts()"
   ]
  },
  {
   "cell_type": "code",
   "execution_count": 11,
   "id": "719e4d0a",
   "metadata": {},
   "outputs": [
    {
     "data": {
      "text/plain": [
       "array([39, 49, 29, 19, 59,  9], dtype=int64)"
      ]
     },
     "execution_count": 11,
     "metadata": {},
     "output_type": "execute_result"
    }
   ],
   "source": [
    "df['PRICE'].unique()"
   ]
  },
  {
   "cell_type": "code",
   "execution_count": 12,
   "id": "5db6345e",
   "metadata": {},
   "outputs": [
    {
     "data": {
      "text/plain": [
       "29    1305\n",
       "39    1260\n",
       "49    1031\n",
       "19     992\n",
       "59     212\n",
       "9      200\n",
       "Name: PRICE, dtype: int64"
      ]
     },
     "execution_count": 12,
     "metadata": {},
     "output_type": "execute_result"
    }
   ],
   "source": [
    "df['PRICE'].value_counts()"
   ]
  },
  {
   "cell_type": "code",
   "execution_count": 13,
   "id": "c1287ea1",
   "metadata": {},
   "outputs": [
    {
     "data": {
      "text/plain": [
       "usa    2065\n",
       "bra    1496\n",
       "deu     455\n",
       "tur     451\n",
       "fra     303\n",
       "can     230\n",
       "Name: COUNTRY, dtype: int64"
      ]
     },
     "execution_count": 13,
     "metadata": {},
     "output_type": "execute_result"
    }
   ],
   "source": [
    "df['COUNTRY'].unique()\n",
    "df['COUNTRY'].value_counts()"
   ]
  },
  {
   "cell_type": "code",
   "execution_count": 14,
   "id": "42193f9b",
   "metadata": {},
   "outputs": [
    {
     "data": {
      "text/plain": [
       "COUNTRY\n",
       "bra    51354\n",
       "can     7730\n",
       "deu    15485\n",
       "fra    10177\n",
       "tur    15689\n",
       "usa    70225\n",
       "Name: PRICE, dtype: int64"
      ]
     },
     "execution_count": 14,
     "metadata": {},
     "output_type": "execute_result"
    }
   ],
   "source": [
    "df.groupby('COUNTRY')['PRICE'].sum()\n"
   ]
  },
  {
   "cell_type": "code",
   "execution_count": 15,
   "id": "98662338",
   "metadata": {},
   "outputs": [
    {
     "data": {
      "text/plain": [
       "SOURCE\n",
       "android    2974\n",
       "ios        2026\n",
       "Name: PRICE, dtype: int64"
      ]
     },
     "execution_count": 15,
     "metadata": {},
     "output_type": "execute_result"
    }
   ],
   "source": [
    "df.groupby('SOURCE')['PRICE'].count()"
   ]
  },
  {
   "cell_type": "code",
   "execution_count": 16,
   "id": "f8a474dd",
   "metadata": {},
   "outputs": [
    {
     "data": {
      "text/plain": [
       "COUNTRY\n",
       "bra    34.327540\n",
       "can    33.608696\n",
       "deu    34.032967\n",
       "fra    33.587459\n",
       "tur    34.787140\n",
       "usa    34.007264\n",
       "Name: PRICE, dtype: float64"
      ]
     },
     "execution_count": 16,
     "metadata": {},
     "output_type": "execute_result"
    }
   ],
   "source": [
    "df.groupby('COUNTRY')['PRICE'].mean()"
   ]
  },
  {
   "cell_type": "code",
   "execution_count": 17,
   "id": "aa425b90",
   "metadata": {},
   "outputs": [
    {
     "data": {
      "text/plain": [
       "SOURCE\n",
       "android    34.174849\n",
       "ios        34.069102\n",
       "Name: PRICE, dtype: float64"
      ]
     },
     "execution_count": 17,
     "metadata": {},
     "output_type": "execute_result"
    }
   ],
   "source": [
    "df.groupby('SOURCE')['PRICE'].mean()"
   ]
  },
  {
   "cell_type": "code",
   "execution_count": 18,
   "id": "17f6708d",
   "metadata": {},
   "outputs": [
    {
     "data": {
      "text/plain": [
       "COUNTRY  SOURCE \n",
       "bra      android    34.387029\n",
       "         ios        34.222222\n",
       "can      android    33.330709\n",
       "         ios        33.951456\n",
       "deu      android    33.869888\n",
       "         ios        34.268817\n",
       "fra      android    34.312500\n",
       "         ios        32.776224\n",
       "tur      android    36.229437\n",
       "         ios        33.272727\n",
       "usa      android    33.760357\n",
       "         ios        34.371703\n",
       "Name: PRICE, dtype: float64"
      ]
     },
     "execution_count": 18,
     "metadata": {},
     "output_type": "execute_result"
    }
   ],
   "source": [
    "df.groupby(['COUNTRY', 'SOURCE'])['PRICE'].mean()"
   ]
  },
  {
   "cell_type": "code",
   "execution_count": 19,
   "id": "0026debe",
   "metadata": {},
   "outputs": [
    {
     "data": {
      "text/plain": [
       "COUNTRY  SOURCE   SEX     AGE\n",
       "bra      android  female  15     38.714286\n",
       "                          16     35.944444\n",
       "                          17     35.666667\n",
       "                          18     32.255814\n",
       "                          19     35.206897\n",
       "                                   ...    \n",
       "usa      ios      male    42     30.250000\n",
       "                          50     39.000000\n",
       "                          53     34.000000\n",
       "                          55     29.000000\n",
       "                          59     46.500000\n",
       "Name: PRICE, Length: 348, dtype: float64"
      ]
     },
     "execution_count": 19,
     "metadata": {},
     "output_type": "execute_result"
    }
   ],
   "source": [
    "df.groupby(['COUNTRY', 'SOURCE', 'SEX', 'AGE'])['PRICE'].mean()\n"
   ]
  },
  {
   "cell_type": "code",
   "execution_count": 20,
   "id": "85ebf4d6",
   "metadata": {},
   "outputs": [
    {
     "data": {
      "text/html": [
       "<div>\n",
       "<style scoped>\n",
       "    .dataframe tbody tr th:only-of-type {\n",
       "        vertical-align: middle;\n",
       "    }\n",
       "\n",
       "    .dataframe tbody tr th {\n",
       "        vertical-align: top;\n",
       "    }\n",
       "\n",
       "    .dataframe thead th {\n",
       "        text-align: right;\n",
       "    }\n",
       "</style>\n",
       "<table border=\"1\" class=\"dataframe\">\n",
       "  <thead>\n",
       "    <tr style=\"text-align: right;\">\n",
       "      <th></th>\n",
       "      <th></th>\n",
       "      <th></th>\n",
       "      <th></th>\n",
       "      <th>PRICE</th>\n",
       "    </tr>\n",
       "    <tr>\n",
       "      <th>COUNTRY</th>\n",
       "      <th>SOURCE</th>\n",
       "      <th>SEX</th>\n",
       "      <th>AGE</th>\n",
       "      <th></th>\n",
       "    </tr>\n",
       "  </thead>\n",
       "  <tbody>\n",
       "    <tr>\n",
       "      <th>bra</th>\n",
       "      <th>android</th>\n",
       "      <th>male</th>\n",
       "      <th>46</th>\n",
       "      <td>59.0</td>\n",
       "    </tr>\n",
       "    <tr>\n",
       "      <th>usa</th>\n",
       "      <th>android</th>\n",
       "      <th>male</th>\n",
       "      <th>36</th>\n",
       "      <td>59.0</td>\n",
       "    </tr>\n",
       "    <tr>\n",
       "      <th>fra</th>\n",
       "      <th>android</th>\n",
       "      <th>female</th>\n",
       "      <th>24</th>\n",
       "      <td>59.0</td>\n",
       "    </tr>\n",
       "    <tr>\n",
       "      <th>usa</th>\n",
       "      <th>ios</th>\n",
       "      <th>male</th>\n",
       "      <th>32</th>\n",
       "      <td>54.0</td>\n",
       "    </tr>\n",
       "    <tr>\n",
       "      <th>deu</th>\n",
       "      <th>android</th>\n",
       "      <th>female</th>\n",
       "      <th>36</th>\n",
       "      <td>49.0</td>\n",
       "    </tr>\n",
       "    <tr>\n",
       "      <th>...</th>\n",
       "      <th>...</th>\n",
       "      <th>...</th>\n",
       "      <th>...</th>\n",
       "      <td>...</td>\n",
       "    </tr>\n",
       "    <tr>\n",
       "      <th rowspan=\"2\" valign=\"top\">usa</th>\n",
       "      <th rowspan=\"2\" valign=\"top\">ios</th>\n",
       "      <th rowspan=\"2\" valign=\"top\">female</th>\n",
       "      <th>38</th>\n",
       "      <td>19.0</td>\n",
       "    </tr>\n",
       "    <tr>\n",
       "      <th>30</th>\n",
       "      <td>19.0</td>\n",
       "    </tr>\n",
       "    <tr>\n",
       "      <th>can</th>\n",
       "      <th>android</th>\n",
       "      <th>female</th>\n",
       "      <th>27</th>\n",
       "      <td>19.0</td>\n",
       "    </tr>\n",
       "    <tr>\n",
       "      <th>fra</th>\n",
       "      <th>android</th>\n",
       "      <th>male</th>\n",
       "      <th>18</th>\n",
       "      <td>19.0</td>\n",
       "    </tr>\n",
       "    <tr>\n",
       "      <th>deu</th>\n",
       "      <th>android</th>\n",
       "      <th>male</th>\n",
       "      <th>26</th>\n",
       "      <td>9.0</td>\n",
       "    </tr>\n",
       "  </tbody>\n",
       "</table>\n",
       "<p>348 rows × 1 columns</p>\n",
       "</div>"
      ],
      "text/plain": [
       "                            PRICE\n",
       "COUNTRY SOURCE  SEX    AGE       \n",
       "bra     android male   46    59.0\n",
       "usa     android male   36    59.0\n",
       "fra     android female 24    59.0\n",
       "usa     ios     male   32    54.0\n",
       "deu     android female 36    49.0\n",
       "...                           ...\n",
       "usa     ios     female 38    19.0\n",
       "                       30    19.0\n",
       "can     android female 27    19.0\n",
       "fra     android male   18    19.0\n",
       "deu     android male   26     9.0\n",
       "\n",
       "[348 rows x 1 columns]"
      ]
     },
     "execution_count": 20,
     "metadata": {},
     "output_type": "execute_result"
    }
   ],
   "source": [
    "agg_df = pd.DataFrame(df.groupby(['COUNTRY', 'SOURCE', 'SEX', 'AGE'])['PRICE'].mean()).sort_values(by=['PRICE'],\n",
    "                                                                                                   ascending=False)\n",
    "agg_df"
   ]
  },
  {
   "cell_type": "code",
   "execution_count": 21,
   "id": "06c39842",
   "metadata": {},
   "outputs": [
    {
     "data": {
      "text/html": [
       "<div>\n",
       "<style scoped>\n",
       "    .dataframe tbody tr th:only-of-type {\n",
       "        vertical-align: middle;\n",
       "    }\n",
       "\n",
       "    .dataframe tbody tr th {\n",
       "        vertical-align: top;\n",
       "    }\n",
       "\n",
       "    .dataframe thead th {\n",
       "        text-align: right;\n",
       "    }\n",
       "</style>\n",
       "<table border=\"1\" class=\"dataframe\">\n",
       "  <thead>\n",
       "    <tr style=\"text-align: right;\">\n",
       "      <th></th>\n",
       "      <th>COUNTRY</th>\n",
       "      <th>SOURCE</th>\n",
       "      <th>SEX</th>\n",
       "      <th>AGE</th>\n",
       "      <th>PRICE</th>\n",
       "    </tr>\n",
       "  </thead>\n",
       "  <tbody>\n",
       "    <tr>\n",
       "      <th>0</th>\n",
       "      <td>bra</td>\n",
       "      <td>android</td>\n",
       "      <td>male</td>\n",
       "      <td>46</td>\n",
       "      <td>59.0</td>\n",
       "    </tr>\n",
       "    <tr>\n",
       "      <th>1</th>\n",
       "      <td>usa</td>\n",
       "      <td>android</td>\n",
       "      <td>male</td>\n",
       "      <td>36</td>\n",
       "      <td>59.0</td>\n",
       "    </tr>\n",
       "    <tr>\n",
       "      <th>2</th>\n",
       "      <td>fra</td>\n",
       "      <td>android</td>\n",
       "      <td>female</td>\n",
       "      <td>24</td>\n",
       "      <td>59.0</td>\n",
       "    </tr>\n",
       "    <tr>\n",
       "      <th>3</th>\n",
       "      <td>usa</td>\n",
       "      <td>ios</td>\n",
       "      <td>male</td>\n",
       "      <td>32</td>\n",
       "      <td>54.0</td>\n",
       "    </tr>\n",
       "    <tr>\n",
       "      <th>4</th>\n",
       "      <td>deu</td>\n",
       "      <td>android</td>\n",
       "      <td>female</td>\n",
       "      <td>36</td>\n",
       "      <td>49.0</td>\n",
       "    </tr>\n",
       "    <tr>\n",
       "      <th>...</th>\n",
       "      <td>...</td>\n",
       "      <td>...</td>\n",
       "      <td>...</td>\n",
       "      <td>...</td>\n",
       "      <td>...</td>\n",
       "    </tr>\n",
       "    <tr>\n",
       "      <th>343</th>\n",
       "      <td>usa</td>\n",
       "      <td>ios</td>\n",
       "      <td>female</td>\n",
       "      <td>38</td>\n",
       "      <td>19.0</td>\n",
       "    </tr>\n",
       "    <tr>\n",
       "      <th>344</th>\n",
       "      <td>usa</td>\n",
       "      <td>ios</td>\n",
       "      <td>female</td>\n",
       "      <td>30</td>\n",
       "      <td>19.0</td>\n",
       "    </tr>\n",
       "    <tr>\n",
       "      <th>345</th>\n",
       "      <td>can</td>\n",
       "      <td>android</td>\n",
       "      <td>female</td>\n",
       "      <td>27</td>\n",
       "      <td>19.0</td>\n",
       "    </tr>\n",
       "    <tr>\n",
       "      <th>346</th>\n",
       "      <td>fra</td>\n",
       "      <td>android</td>\n",
       "      <td>male</td>\n",
       "      <td>18</td>\n",
       "      <td>19.0</td>\n",
       "    </tr>\n",
       "    <tr>\n",
       "      <th>347</th>\n",
       "      <td>deu</td>\n",
       "      <td>android</td>\n",
       "      <td>male</td>\n",
       "      <td>26</td>\n",
       "      <td>9.0</td>\n",
       "    </tr>\n",
       "  </tbody>\n",
       "</table>\n",
       "<p>348 rows × 5 columns</p>\n",
       "</div>"
      ],
      "text/plain": [
       "    COUNTRY   SOURCE     SEX  AGE  PRICE\n",
       "0       bra  android    male   46   59.0\n",
       "1       usa  android    male   36   59.0\n",
       "2       fra  android  female   24   59.0\n",
       "3       usa      ios    male   32   54.0\n",
       "4       deu  android  female   36   49.0\n",
       "..      ...      ...     ...  ...    ...\n",
       "343     usa      ios  female   38   19.0\n",
       "344     usa      ios  female   30   19.0\n",
       "345     can  android  female   27   19.0\n",
       "346     fra  android    male   18   19.0\n",
       "347     deu  android    male   26    9.0\n",
       "\n",
       "[348 rows x 5 columns]"
      ]
     },
     "execution_count": 21,
     "metadata": {},
     "output_type": "execute_result"
    }
   ],
   "source": [
    "agg_df.reset_index(inplace=True)\n",
    "agg_df"
   ]
  },
  {
   "cell_type": "code",
   "execution_count": 22,
   "id": "a72d256d",
   "metadata": {},
   "outputs": [
    {
     "data": {
      "text/html": [
       "<div>\n",
       "<style scoped>\n",
       "    .dataframe tbody tr th:only-of-type {\n",
       "        vertical-align: middle;\n",
       "    }\n",
       "\n",
       "    .dataframe tbody tr th {\n",
       "        vertical-align: top;\n",
       "    }\n",
       "\n",
       "    .dataframe thead th {\n",
       "        text-align: right;\n",
       "    }\n",
       "</style>\n",
       "<table border=\"1\" class=\"dataframe\">\n",
       "  <thead>\n",
       "    <tr style=\"text-align: right;\">\n",
       "      <th></th>\n",
       "      <th>COUNTRY</th>\n",
       "      <th>SOURCE</th>\n",
       "      <th>SEX</th>\n",
       "      <th>AGE</th>\n",
       "      <th>PRICE</th>\n",
       "      <th>AGE_CAT</th>\n",
       "    </tr>\n",
       "  </thead>\n",
       "  <tbody>\n",
       "    <tr>\n",
       "      <th>0</th>\n",
       "      <td>bra</td>\n",
       "      <td>android</td>\n",
       "      <td>male</td>\n",
       "      <td>46</td>\n",
       "      <td>59.0</td>\n",
       "      <td>41_70</td>\n",
       "    </tr>\n",
       "    <tr>\n",
       "      <th>1</th>\n",
       "      <td>usa</td>\n",
       "      <td>android</td>\n",
       "      <td>male</td>\n",
       "      <td>36</td>\n",
       "      <td>59.0</td>\n",
       "      <td>31_40</td>\n",
       "    </tr>\n",
       "    <tr>\n",
       "      <th>2</th>\n",
       "      <td>fra</td>\n",
       "      <td>android</td>\n",
       "      <td>female</td>\n",
       "      <td>24</td>\n",
       "      <td>59.0</td>\n",
       "      <td>24_30</td>\n",
       "    </tr>\n",
       "    <tr>\n",
       "      <th>3</th>\n",
       "      <td>usa</td>\n",
       "      <td>ios</td>\n",
       "      <td>male</td>\n",
       "      <td>32</td>\n",
       "      <td>54.0</td>\n",
       "      <td>31_40</td>\n",
       "    </tr>\n",
       "    <tr>\n",
       "      <th>4</th>\n",
       "      <td>deu</td>\n",
       "      <td>android</td>\n",
       "      <td>female</td>\n",
       "      <td>36</td>\n",
       "      <td>49.0</td>\n",
       "      <td>31_40</td>\n",
       "    </tr>\n",
       "    <tr>\n",
       "      <th>...</th>\n",
       "      <td>...</td>\n",
       "      <td>...</td>\n",
       "      <td>...</td>\n",
       "      <td>...</td>\n",
       "      <td>...</td>\n",
       "      <td>...</td>\n",
       "    </tr>\n",
       "    <tr>\n",
       "      <th>343</th>\n",
       "      <td>usa</td>\n",
       "      <td>ios</td>\n",
       "      <td>female</td>\n",
       "      <td>38</td>\n",
       "      <td>19.0</td>\n",
       "      <td>41_70</td>\n",
       "    </tr>\n",
       "    <tr>\n",
       "      <th>344</th>\n",
       "      <td>usa</td>\n",
       "      <td>ios</td>\n",
       "      <td>female</td>\n",
       "      <td>30</td>\n",
       "      <td>19.0</td>\n",
       "      <td>31_40</td>\n",
       "    </tr>\n",
       "    <tr>\n",
       "      <th>345</th>\n",
       "      <td>can</td>\n",
       "      <td>android</td>\n",
       "      <td>female</td>\n",
       "      <td>27</td>\n",
       "      <td>19.0</td>\n",
       "      <td>24_30</td>\n",
       "    </tr>\n",
       "    <tr>\n",
       "      <th>346</th>\n",
       "      <td>fra</td>\n",
       "      <td>android</td>\n",
       "      <td>male</td>\n",
       "      <td>18</td>\n",
       "      <td>19.0</td>\n",
       "      <td>0_18</td>\n",
       "    </tr>\n",
       "    <tr>\n",
       "      <th>347</th>\n",
       "      <td>deu</td>\n",
       "      <td>android</td>\n",
       "      <td>male</td>\n",
       "      <td>26</td>\n",
       "      <td>9.0</td>\n",
       "      <td>24_30</td>\n",
       "    </tr>\n",
       "  </tbody>\n",
       "</table>\n",
       "<p>348 rows × 6 columns</p>\n",
       "</div>"
      ],
      "text/plain": [
       "    COUNTRY   SOURCE     SEX  AGE  PRICE AGE_CAT\n",
       "0       bra  android    male   46   59.0   41_70\n",
       "1       usa  android    male   36   59.0   31_40\n",
       "2       fra  android  female   24   59.0   24_30\n",
       "3       usa      ios    male   32   54.0   31_40\n",
       "4       deu  android  female   36   49.0   31_40\n",
       "..      ...      ...     ...  ...    ...     ...\n",
       "343     usa      ios  female   38   19.0   41_70\n",
       "344     usa      ios  female   30   19.0   31_40\n",
       "345     can  android  female   27   19.0   24_30\n",
       "346     fra  android    male   18   19.0    0_18\n",
       "347     deu  android    male   26    9.0   24_30\n",
       "\n",
       "[348 rows x 6 columns]"
      ]
     },
     "execution_count": 22,
     "metadata": {},
     "output_type": "execute_result"
    }
   ],
   "source": [
    "agg_df['AGE_CAT'] = pd.qcut(agg_df['AGE'], 5, labels=['0_18', '19_23', '24_30', '31_40', '41_70']).astype(str)\n",
    "agg_df"
   ]
  },
  {
   "cell_type": "code",
   "execution_count": 23,
   "id": "62c12d65",
   "metadata": {},
   "outputs": [],
   "source": [
    "agg_df[\"customers_level_based\"] = [df_val[0].upper() + '_' + df_val[1].upper() + '_' + df_val[2].upper() + '_' + df_val[5].upper() for df_val in\n",
    "                                   agg_df.values]"
   ]
  },
  {
   "cell_type": "code",
   "execution_count": 24,
   "id": "f6f411bb",
   "metadata": {},
   "outputs": [
    {
     "data": {
      "text/html": [
       "<div>\n",
       "<style scoped>\n",
       "    .dataframe tbody tr th:only-of-type {\n",
       "        vertical-align: middle;\n",
       "    }\n",
       "\n",
       "    .dataframe tbody tr th {\n",
       "        vertical-align: top;\n",
       "    }\n",
       "\n",
       "    .dataframe thead th {\n",
       "        text-align: right;\n",
       "    }\n",
       "</style>\n",
       "<table border=\"1\" class=\"dataframe\">\n",
       "  <thead>\n",
       "    <tr style=\"text-align: right;\">\n",
       "      <th></th>\n",
       "      <th>customers_level_based</th>\n",
       "      <th>PRICE</th>\n",
       "    </tr>\n",
       "  </thead>\n",
       "  <tbody>\n",
       "    <tr>\n",
       "      <th>0</th>\n",
       "      <td>BRA_ANDROID_MALE_41_70</td>\n",
       "      <td>59.0</td>\n",
       "    </tr>\n",
       "    <tr>\n",
       "      <th>1</th>\n",
       "      <td>USA_ANDROID_MALE_31_40</td>\n",
       "      <td>59.0</td>\n",
       "    </tr>\n",
       "    <tr>\n",
       "      <th>2</th>\n",
       "      <td>FRA_ANDROID_FEMALE_24_30</td>\n",
       "      <td>59.0</td>\n",
       "    </tr>\n",
       "    <tr>\n",
       "      <th>3</th>\n",
       "      <td>USA_IOS_MALE_31_40</td>\n",
       "      <td>54.0</td>\n",
       "    </tr>\n",
       "    <tr>\n",
       "      <th>4</th>\n",
       "      <td>DEU_ANDROID_FEMALE_31_40</td>\n",
       "      <td>49.0</td>\n",
       "    </tr>\n",
       "    <tr>\n",
       "      <th>...</th>\n",
       "      <td>...</td>\n",
       "      <td>...</td>\n",
       "    </tr>\n",
       "    <tr>\n",
       "      <th>343</th>\n",
       "      <td>USA_IOS_FEMALE_41_70</td>\n",
       "      <td>19.0</td>\n",
       "    </tr>\n",
       "    <tr>\n",
       "      <th>344</th>\n",
       "      <td>USA_IOS_FEMALE_31_40</td>\n",
       "      <td>19.0</td>\n",
       "    </tr>\n",
       "    <tr>\n",
       "      <th>345</th>\n",
       "      <td>CAN_ANDROID_FEMALE_24_30</td>\n",
       "      <td>19.0</td>\n",
       "    </tr>\n",
       "    <tr>\n",
       "      <th>346</th>\n",
       "      <td>FRA_ANDROID_MALE_0_18</td>\n",
       "      <td>19.0</td>\n",
       "    </tr>\n",
       "    <tr>\n",
       "      <th>347</th>\n",
       "      <td>DEU_ANDROID_MALE_24_30</td>\n",
       "      <td>9.0</td>\n",
       "    </tr>\n",
       "  </tbody>\n",
       "</table>\n",
       "<p>348 rows × 2 columns</p>\n",
       "</div>"
      ],
      "text/plain": [
       "        customers_level_based  PRICE\n",
       "0      BRA_ANDROID_MALE_41_70   59.0\n",
       "1      USA_ANDROID_MALE_31_40   59.0\n",
       "2    FRA_ANDROID_FEMALE_24_30   59.0\n",
       "3          USA_IOS_MALE_31_40   54.0\n",
       "4    DEU_ANDROID_FEMALE_31_40   49.0\n",
       "..                        ...    ...\n",
       "343      USA_IOS_FEMALE_41_70   19.0\n",
       "344      USA_IOS_FEMALE_31_40   19.0\n",
       "345  CAN_ANDROID_FEMALE_24_30   19.0\n",
       "346     FRA_ANDROID_MALE_0_18   19.0\n",
       "347    DEU_ANDROID_MALE_24_30    9.0\n",
       "\n",
       "[348 rows x 2 columns]"
      ]
     },
     "execution_count": 24,
     "metadata": {},
     "output_type": "execute_result"
    }
   ],
   "source": [
    "agg_df.groupby(['customers_level_based'])['PRICE'].mean()\n",
    "agg_df\n",
    "new_agg_df = pd.DataFrame(agg_df[['customers_level_based','PRICE']])\n",
    "new_agg_df"
   ]
  },
  {
   "cell_type": "code",
   "execution_count": 25,
   "id": "8f7897d1",
   "metadata": {},
   "outputs": [
    {
     "data": {
      "text/html": [
       "<div>\n",
       "<style scoped>\n",
       "    .dataframe tbody tr th:only-of-type {\n",
       "        vertical-align: middle;\n",
       "    }\n",
       "\n",
       "    .dataframe tbody tr th {\n",
       "        vertical-align: top;\n",
       "    }\n",
       "\n",
       "    .dataframe thead th {\n",
       "        text-align: right;\n",
       "    }\n",
       "</style>\n",
       "<table border=\"1\" class=\"dataframe\">\n",
       "  <thead>\n",
       "    <tr style=\"text-align: right;\">\n",
       "      <th></th>\n",
       "      <th>customers_level_based</th>\n",
       "      <th>PRICE</th>\n",
       "      <th>SEGMENT</th>\n",
       "    </tr>\n",
       "  </thead>\n",
       "  <tbody>\n",
       "    <tr>\n",
       "      <th>0</th>\n",
       "      <td>BRA_ANDROID_MALE_41_70</td>\n",
       "      <td>59.0</td>\n",
       "      <td>A</td>\n",
       "    </tr>\n",
       "    <tr>\n",
       "      <th>1</th>\n",
       "      <td>USA_ANDROID_MALE_31_40</td>\n",
       "      <td>59.0</td>\n",
       "      <td>A</td>\n",
       "    </tr>\n",
       "    <tr>\n",
       "      <th>2</th>\n",
       "      <td>FRA_ANDROID_FEMALE_24_30</td>\n",
       "      <td>59.0</td>\n",
       "      <td>A</td>\n",
       "    </tr>\n",
       "    <tr>\n",
       "      <th>3</th>\n",
       "      <td>USA_IOS_MALE_31_40</td>\n",
       "      <td>54.0</td>\n",
       "      <td>A</td>\n",
       "    </tr>\n",
       "    <tr>\n",
       "      <th>4</th>\n",
       "      <td>DEU_ANDROID_FEMALE_31_40</td>\n",
       "      <td>49.0</td>\n",
       "      <td>A</td>\n",
       "    </tr>\n",
       "    <tr>\n",
       "      <th>...</th>\n",
       "      <td>...</td>\n",
       "      <td>...</td>\n",
       "      <td>...</td>\n",
       "    </tr>\n",
       "    <tr>\n",
       "      <th>343</th>\n",
       "      <td>USA_IOS_FEMALE_41_70</td>\n",
       "      <td>19.0</td>\n",
       "      <td>D</td>\n",
       "    </tr>\n",
       "    <tr>\n",
       "      <th>344</th>\n",
       "      <td>USA_IOS_FEMALE_31_40</td>\n",
       "      <td>19.0</td>\n",
       "      <td>D</td>\n",
       "    </tr>\n",
       "    <tr>\n",
       "      <th>345</th>\n",
       "      <td>CAN_ANDROID_FEMALE_24_30</td>\n",
       "      <td>19.0</td>\n",
       "      <td>D</td>\n",
       "    </tr>\n",
       "    <tr>\n",
       "      <th>346</th>\n",
       "      <td>FRA_ANDROID_MALE_0_18</td>\n",
       "      <td>19.0</td>\n",
       "      <td>D</td>\n",
       "    </tr>\n",
       "    <tr>\n",
       "      <th>347</th>\n",
       "      <td>DEU_ANDROID_MALE_24_30</td>\n",
       "      <td>9.0</td>\n",
       "      <td>D</td>\n",
       "    </tr>\n",
       "  </tbody>\n",
       "</table>\n",
       "<p>348 rows × 3 columns</p>\n",
       "</div>"
      ],
      "text/plain": [
       "        customers_level_based  PRICE SEGMENT\n",
       "0      BRA_ANDROID_MALE_41_70   59.0       A\n",
       "1      USA_ANDROID_MALE_31_40   59.0       A\n",
       "2    FRA_ANDROID_FEMALE_24_30   59.0       A\n",
       "3          USA_IOS_MALE_31_40   54.0       A\n",
       "4    DEU_ANDROID_FEMALE_31_40   49.0       A\n",
       "..                        ...    ...     ...\n",
       "343      USA_IOS_FEMALE_41_70   19.0       D\n",
       "344      USA_IOS_FEMALE_31_40   19.0       D\n",
       "345  CAN_ANDROID_FEMALE_24_30   19.0       D\n",
       "346     FRA_ANDROID_MALE_0_18   19.0       D\n",
       "347    DEU_ANDROID_MALE_24_30    9.0       D\n",
       "\n",
       "[348 rows x 3 columns]"
      ]
     },
     "execution_count": 25,
     "metadata": {},
     "output_type": "execute_result"
    }
   ],
   "source": [
    "new_agg_df['SEGMENT'] = pd.qcut(new_agg_df['PRICE'], 4, labels=['D','C','B','A'])\n",
    "new_agg_df"
   ]
  },
  {
   "cell_type": "code",
   "execution_count": 26,
   "id": "ac247411",
   "metadata": {},
   "outputs": [
    {
     "data": {
      "text/plain": [
       "PRICE    35.888889\n",
       "dtype: float64"
      ]
     },
     "execution_count": 26,
     "metadata": {},
     "output_type": "execute_result"
    }
   ],
   "source": [
    "new_user_tr = \"TUR_ANDROID_FEMALE_31_40\"\n",
    "new_agg_df[new_agg_df[\"customers_level_based\"] == new_user_tr].agg({\"PRICE\":\"mean\"})\n"
   ]
  },
  {
   "cell_type": "code",
   "execution_count": 27,
   "id": "1a0e296c",
   "metadata": {},
   "outputs": [
    {
     "data": {
      "text/plain": [
       "PRICE    32.636364\n",
       "dtype: float64"
      ]
     },
     "execution_count": 27,
     "metadata": {},
     "output_type": "execute_result"
    }
   ],
   "source": [
    "new_user_fr = \"FRA_IOS_FEMALE_31_40\"\n",
    "new_agg_df[new_agg_df[\"customers_level_based\"] == new_user_fr].agg({\"PRICE\":\"mean\"})"
   ]
  }
 ],
 "metadata": {
  "kernelspec": {
   "display_name": "Python 3 (ipykernel)",
   "language": "python",
   "name": "python3"
  },
  "language_info": {
   "codemirror_mode": {
    "name": "ipython",
    "version": 3
   },
   "file_extension": ".py",
   "mimetype": "text/x-python",
   "name": "python",
   "nbconvert_exporter": "python",
   "pygments_lexer": "ipython3",
   "version": "3.9.7"
  }
 },
 "nbformat": 4,
 "nbformat_minor": 5
}
